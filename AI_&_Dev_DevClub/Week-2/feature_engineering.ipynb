{
 "cells": [
  {
   "cell_type": "code",
   "execution_count": 2,
   "id": "d7c28af0",
   "metadata": {},
   "outputs": [
    {
     "name": "stdout",
     "output_type": "stream",
     "text": [
      "Setup complete\n"
     ]
    }
   ],
   "source": [
    "from sklearn.model_selection import train_test_split\n",
    "from sklearn.ensemble import RandomForestRegressor\n",
    "from sklearn.metrics import root_mean_squared_error\n",
    "\n",
    "import pandas as pd\n",
    "import numpy as np\n",
    "import seaborn as sns\n",
    "import matplotlib.pyplot as plt\n",
    "import textblob\n",
    "\n",
    "%matplotlib inline\n",
    "print(\"Setup complete\")"
   ]
  },
  {
   "cell_type": "code",
   "execution_count": 3,
   "id": "c639ad2c",
   "metadata": {},
   "outputs": [
    {
     "data": {
      "text/html": [
       "<div>\n",
       "<style scoped>\n",
       "    .dataframe tbody tr th:only-of-type {\n",
       "        vertical-align: middle;\n",
       "    }\n",
       "\n",
       "    .dataframe tbody tr th {\n",
       "        vertical-align: top;\n",
       "    }\n",
       "\n",
       "    .dataframe thead th {\n",
       "        text-align: right;\n",
       "    }\n",
       "</style>\n",
       "<table border=\"1\" class=\"dataframe\">\n",
       "  <thead>\n",
       "    <tr style=\"text-align: right;\">\n",
       "      <th></th>\n",
       "      <th>date</th>\n",
       "      <th>likes</th>\n",
       "      <th>content</th>\n",
       "      <th>username</th>\n",
       "      <th>media</th>\n",
       "      <th>company</th>\n",
       "      <th>log_likes</th>\n",
       "    </tr>\n",
       "    <tr>\n",
       "      <th>id</th>\n",
       "      <th></th>\n",
       "      <th></th>\n",
       "      <th></th>\n",
       "      <th></th>\n",
       "      <th></th>\n",
       "      <th></th>\n",
       "      <th></th>\n",
       "    </tr>\n",
       "  </thead>\n",
       "  <tbody>\n",
       "    <tr>\n",
       "      <th>1</th>\n",
       "      <td>2020-12-12 00:47:00</td>\n",
       "      <td>1</td>\n",
       "      <td>Spend your weekend morning with a Ham, Egg, an...</td>\n",
       "      <td>TimHortonsPH</td>\n",
       "      <td>[Photo(previewUrl='https://pbs.twimg.com/media...</td>\n",
       "      <td>tim hortons</td>\n",
       "      <td>0.693147</td>\n",
       "    </tr>\n",
       "    <tr>\n",
       "      <th>2</th>\n",
       "      <td>2018-06-30 10:04:20</td>\n",
       "      <td>2750</td>\n",
       "      <td>Watch rapper &lt;mention&gt; freestyle for over an H...</td>\n",
       "      <td>IndyMusic</td>\n",
       "      <td>[Photo(previewUrl='https://pbs.twimg.com/media...</td>\n",
       "      <td>independent</td>\n",
       "      <td>7.919720</td>\n",
       "    </tr>\n",
       "    <tr>\n",
       "      <th>3</th>\n",
       "      <td>2020-09-29 19:47:28</td>\n",
       "      <td>57</td>\n",
       "      <td>Canadian Armenian community demands ban on mil...</td>\n",
       "      <td>CBCCanada</td>\n",
       "      <td>[Photo(previewUrl='https://pbs.twimg.com/media...</td>\n",
       "      <td>cbc</td>\n",
       "      <td>4.060443</td>\n",
       "    </tr>\n",
       "    <tr>\n",
       "      <th>4</th>\n",
       "      <td>2020-10-01 11:40:09</td>\n",
       "      <td>152</td>\n",
       "      <td>1st in Europe to be devastated by COVID-19, It...</td>\n",
       "      <td>MKWilliamsRome</td>\n",
       "      <td>[Photo(previewUrl='https://pbs.twimg.com/media...</td>\n",
       "      <td>williams</td>\n",
       "      <td>5.030438</td>\n",
       "    </tr>\n",
       "    <tr>\n",
       "      <th>5</th>\n",
       "      <td>2018-10-19 14:30:46</td>\n",
       "      <td>41</td>\n",
       "      <td>Congratulations to Pauletha Butts of &lt;mention&gt;...</td>\n",
       "      <td>BGISD</td>\n",
       "      <td>[Photo(previewUrl='https://pbs.twimg.com/media...</td>\n",
       "      <td>independent</td>\n",
       "      <td>3.737670</td>\n",
       "    </tr>\n",
       "  </tbody>\n",
       "</table>\n",
       "</div>"
      ],
      "text/plain": [
       "                   date  likes  \\\n",
       "id                               \n",
       "1   2020-12-12 00:47:00      1   \n",
       "2   2018-06-30 10:04:20   2750   \n",
       "3   2020-09-29 19:47:28     57   \n",
       "4   2020-10-01 11:40:09    152   \n",
       "5   2018-10-19 14:30:46     41   \n",
       "\n",
       "                                              content        username  \\\n",
       "id                                                                      \n",
       "1   Spend your weekend morning with a Ham, Egg, an...    TimHortonsPH   \n",
       "2   Watch rapper <mention> freestyle for over an H...       IndyMusic   \n",
       "3   Canadian Armenian community demands ban on mil...       CBCCanada   \n",
       "4   1st in Europe to be devastated by COVID-19, It...  MKWilliamsRome   \n",
       "5   Congratulations to Pauletha Butts of <mention>...           BGISD   \n",
       "\n",
       "                                                media      company  log_likes  \n",
       "id                                                                             \n",
       "1   [Photo(previewUrl='https://pbs.twimg.com/media...  tim hortons   0.693147  \n",
       "2   [Photo(previewUrl='https://pbs.twimg.com/media...  independent   7.919720  \n",
       "3   [Photo(previewUrl='https://pbs.twimg.com/media...          cbc   4.060443  \n",
       "4   [Photo(previewUrl='https://pbs.twimg.com/media...     williams   5.030438  \n",
       "5   [Photo(previewUrl='https://pbs.twimg.com/media...  independent   3.737670  "
      ]
     },
     "execution_count": 3,
     "metadata": {},
     "output_type": "execute_result"
    }
   ],
   "source": [
    "df = pd.read_csv(\"../dataset.csv\", index_col=\"id\")\n",
    "df.rename(columns={\"inferred company\": \"company\"}, inplace=True)\n",
    "df['log_likes'] = np.log1p(df['likes'])\n",
    "df.head()"
   ]
  },
  {
   "cell_type": "code",
   "execution_count": 4,
   "id": "623c8d6b",
   "metadata": {},
   "outputs": [],
   "source": [
    "def evaluate_model(X, y):\n",
    "    X_train, X_test, y_train, y_test = train_test_split(\n",
    "        X, y, test_size=0.2, random_state=42\n",
    "    )\n",
    "\n",
    "    model = RandomForestRegressor()\n",
    "    model.fit(X_train, y_train)\n",
    "\n",
    "    preds = model.predict(X_test)\n",
    "    rmse = root_mean_squared_error(y_test, preds)\n",
    "    \n",
    "    return rmse"
   ]
  },
  {
   "cell_type": "code",
   "execution_count": 5,
   "id": "efd50e7b",
   "metadata": {},
   "outputs": [],
   "source": [
    "textblob_series = df[\"content\"].apply(lambda x: textblob.TextBlob(x))\n",
    "\n",
    "df[\"text_polarity\"] = textblob_series.apply(lambda x: x.sentiment.polarity)\n",
    "df[\"text_subjectivity\"] = textblob_series.apply(lambda x: x.sentiment.subjectivity)\n",
    "\n",
    "df[\"word_count\"] = textblob_series.apply(lambda x: len(x.words))\n",
    "df[\"char_count\"] = textblob_series.apply(lambda x: len(x.raw))\n",
    "df[\"char_density\"] = df[\"char_count\"] / df[\"word_count\"]"
   ]
  },
  {
   "cell_type": "code",
   "execution_count": 6,
   "id": "6f850746",
   "metadata": {},
   "outputs": [],
   "source": [
    "dt_series = pd.to_datetime(df[\"date\"]).dt\n",
    "\n",
    "df[\"post_hour\"] = dt_series.hour\n",
    "df[\"weekday\"] = dt_series.day_of_week\n",
    "\n",
    "df['post_hour_sin'] = np.sin(df['post_hour'] * (2 * np.pi / 24))\n",
    "df['post_hour_cos'] = np.cos(df['post_hour'] * (2 * np.pi / 24))\n",
    "\n",
    "df[\"weekday_sin\"] = np.sin(df[\"weekday\"] * (2 * np.pi / 7))\n",
    "df[\"weekday_cos\"] = np.cos(df[\"weekday\"] * (2 * np.pi / 7))"
   ]
  },
  {
   "cell_type": "code",
   "execution_count": 7,
   "id": "b23d4c17",
   "metadata": {},
   "outputs": [],
   "source": [
    "df[\"media_type\"] = df[\"media\"].apply(\n",
    "    lambda x: \"Photo\" if \"Photo\" in x else \"Gif\" if \"Gif\" in x else \"Video\"\n",
    ")"
   ]
  },
  {
   "cell_type": "code",
   "execution_count": null,
   "id": "8148bcd7",
   "metadata": {},
   "outputs": [],
   "source": [
    "df.head()"
   ]
  },
  {
   "cell_type": "code",
   "execution_count": 8,
   "id": "a14c06a3",
   "metadata": {},
   "outputs": [
    {
     "data": {
      "text/plain": [
       "3522.162532290677"
      ]
     },
     "execution_count": 8,
     "metadata": {},
     "output_type": "execute_result"
    }
   ],
   "source": [
    "# test 1\n",
    "X = df[[\"text_polarity\", \"text_subjectivity\", \"word_count\", \"char_count\", \n",
    "        \"post_hour\", \"weekday\"]]\n",
    "y = df['likes']\n",
    "\n",
    "evaluate_model(X, y)"
   ]
  },
  {
   "cell_type": "code",
   "execution_count": null,
   "id": "7657c7f1",
   "metadata": {},
   "outputs": [],
   "source": [
    "# test 2\n",
    "X = df[\n",
    "    [\n",
    "        \"text_polarity\",\n",
    "        \"text_subjectivity\",\n",
    "        \"word_count\",\n",
    "        \"char_density\",\n",
    "        \"post_hour\",\n",
    "        \"weekday\",\n",
    "    ]\n",
    "]\n",
    "y = df[\"likes\"]\n",
    "\n",
    "evaluate_model(X, y)"
   ]
  },
  {
   "cell_type": "code",
   "execution_count": null,
   "id": "8c1faf30",
   "metadata": {},
   "outputs": [],
   "source": [
    "# test 3\n",
    "X = df[\n",
    "    [\n",
    "        \"text_polarity\",\n",
    "        \"text_subjectivity\",\n",
    "        \"word_count\",\n",
    "        \"char_density\",\n",
    "        \"post_hour_sin\",\n",
    "        \"post_hour_cos\",\n",
    "        \"weekday\",\n",
    "    ]\n",
    "]\n",
    "y = df[\"likes\"]\n",
    "\n",
    "evaluate_model(X, y)"
   ]
  },
  {
   "cell_type": "code",
   "execution_count": null,
   "id": "f4ddae0b",
   "metadata": {},
   "outputs": [],
   "source": [
    "# test 4\n",
    "X = df[\n",
    "    [\n",
    "        \"text_polarity\",\n",
    "        \"text_subjectivity\",\n",
    "        \"word_count\",\n",
    "        \"char_density\",\n",
    "        \"post_hour\",\n",
    "        \"weekday_sin\",\n",
    "        \"weekday_cos\",\n",
    "    ]\n",
    "]\n",
    "y = df[\"likes\"]\n",
    "\n",
    "evaluate_model(X, y)"
   ]
  },
  {
   "cell_type": "code",
   "execution_count": null,
   "id": "490c6f49",
   "metadata": {},
   "outputs": [],
   "source": [
    "# test 5\n",
    "X = df[\n",
    "    [\n",
    "        \"text_polarity\",\n",
    "        \"text_subjectivity\",\n",
    "        \"word_count\",\n",
    "        \"char_density\",\n",
    "        \"post_hour_sin\",\n",
    "        \"post_hour_cos\",\n",
    "        \"weekday_sin\",\n",
    "        \"weekday_cos\",\n",
    "    ]\n",
    "]\n",
    "y = df[\"likes\"]\n",
    "\n",
    "evaluate_model(X, y)"
   ]
  },
  {
   "cell_type": "code",
   "execution_count": null,
   "id": "1df93ce5",
   "metadata": {},
   "outputs": [],
   "source": [
    "# test 6\n",
    "X = pd.get_dummies(df, columns=[\"media_type\"])[\n",
    "    [\n",
    "        \"text_polarity\",\n",
    "        \"text_subjectivity\",\n",
    "        \"word_count\",\n",
    "        \"char_density\",\n",
    "        \"post_hour_sin\",\n",
    "        \"post_hour_cos\",\n",
    "        \"weekday_sin\",\n",
    "        \"weekday_cos\",\n",
    "        \"media_type_Photo\",\n",
    "        \"media_type_Gif\",\n",
    "        \"media_type_Video\",\n",
    "    ]\n",
    "]\n",
    "y = df[\"likes\"]\n",
    "\n",
    "evaluate_model(X, y)"
   ]
  },
  {
   "cell_type": "code",
   "execution_count": 7,
   "id": "cae67b16",
   "metadata": {},
   "outputs": [
    {
     "ename": "NameError",
     "evalue": "name 'evaluate_model' is not defined",
     "output_type": "error",
     "traceback": [
      "\u001b[1;31m---------------------------------------------------------------------------\u001b[0m",
      "\u001b[1;31mNameError\u001b[0m                                 Traceback (most recent call last)",
      "Cell \u001b[1;32mIn[7], line 18\u001b[0m\n\u001b[0;32m      2\u001b[0m X \u001b[38;5;241m=\u001b[39m pd\u001b[38;5;241m.\u001b[39mget_dummies(df, columns\u001b[38;5;241m=\u001b[39m[\u001b[38;5;124m\"\u001b[39m\u001b[38;5;124mmedia_type\u001b[39m\u001b[38;5;124m\"\u001b[39m], drop_first\u001b[38;5;241m=\u001b[39m\u001b[38;5;28;01mTrue\u001b[39;00m)[\n\u001b[0;32m      3\u001b[0m     [\n\u001b[0;32m      4\u001b[0m         \u001b[38;5;124m\"\u001b[39m\u001b[38;5;124mtext_polarity\u001b[39m\u001b[38;5;124m\"\u001b[39m,\n\u001b[1;32m   (...)\u001b[0m\n\u001b[0;32m     14\u001b[0m     ]\n\u001b[0;32m     15\u001b[0m ]\n\u001b[0;32m     16\u001b[0m y \u001b[38;5;241m=\u001b[39m df[\u001b[38;5;124m\"\u001b[39m\u001b[38;5;124mlikes\u001b[39m\u001b[38;5;124m\"\u001b[39m]\n\u001b[1;32m---> 18\u001b[0m \u001b[43mevaluate_model\u001b[49m(X, y)\n",
      "\u001b[1;31mNameError\u001b[0m: name 'evaluate_model' is not defined"
     ]
    }
   ],
   "source": [
    "# test 7\n",
    "X = pd.get_dummies(df, columns=[\"media_type\"], drop_first=True)[\n",
    "    [\n",
    "        \"text_polarity\",\n",
    "        \"text_subjectivity\",\n",
    "        \"word_count\",\n",
    "        \"char_density\",\n",
    "        \"post_hour_sin\",\n",
    "        \"post_hour_cos\",\n",
    "        \"weekday_sin\",\n",
    "        \"weekday_cos\",\n",
    "        \"media_type_Photo\",\n",
    "        \"media_type_Video\",\n",
    "    ]\n",
    "]\n",
    "y = df[\"likes\"]\n",
    "\n",
    "evaluate_model(X, y)"
   ]
  },
  {
   "cell_type": "code",
   "execution_count": 9,
   "id": "e8db68ae",
   "metadata": {},
   "outputs": [],
   "source": [
    "# evaluate with linear regression\n",
    "from sklearn.linear_model import LinearRegression\n",
    "\n",
    "\n",
    "def evaluate_linear_model(X, y):\n",
    "    X_train, X_test, y_train, y_test = train_test_split(\n",
    "        X, y, test_size=0.2, random_state=42\n",
    "    )\n",
    "\n",
    "    model = LinearRegression()\n",
    "    model.fit(X_train, y_train)\n",
    "\n",
    "    preds = model.predict(X_test)\n",
    "    rmse = root_mean_squared_error(y_test, preds)\n",
    "\n",
    "    return rmse"
   ]
  },
  {
   "cell_type": "code",
   "execution_count": null,
   "id": "d88e9b6a",
   "metadata": {},
   "outputs": [],
   "source": [
    "evaluate_linear_model(X, y)"
   ]
  },
  {
   "cell_type": "code",
   "execution_count": null,
   "id": "90692a3c",
   "metadata": {},
   "outputs": [],
   "source": [
    "df['company'].value_counts()"
   ]
  },
  {
   "cell_type": "code",
   "execution_count": null,
   "id": "04fcdc32",
   "metadata": {},
   "outputs": [],
   "source": [
    "def evaluate_model_with_r2(X, y):\n",
    "    X_train, X_test, y_train, y_test = train_test_split(\n",
    "        X, y, test_size=0.2, random_state=42\n",
    "    )\n",
    "\n",
    "    model = RandomForestRegressor()\n",
    "    model.fit(X_train, y_train)\n",
    "\n",
    "    preds = model.predict(X_test)\n",
    "    rmse = root_mean_squared_error(y_test, preds)\n",
    "\n",
    "    return rmse\n",
    "\n",
    "evaluate_model_with_r2(X, y)"
   ]
  },
  {
   "cell_type": "code",
   "execution_count": 10,
   "id": "166df3f2",
   "metadata": {},
   "outputs": [
    {
     "data": {
      "text/plain": [
       "3332.70751953125"
      ]
     },
     "execution_count": 10,
     "metadata": {},
     "output_type": "execute_result"
    }
   ],
   "source": [
    "# use xgboost\n",
    "from xgboost import XGBRegressor\n",
    "\n",
    "def evaluate_xgboost_model(X, y):\n",
    "    X_train, X_test, y_train, y_test = train_test_split(\n",
    "        X, y, test_size=0.2, random_state=42\n",
    "    )\n",
    "\n",
    "    model = XGBRegressor(max_depth=5, n_estimators=250, learning_rate=0.03, random_state=42)\n",
    "    model.fit(X_train, y_train)\n",
    "\n",
    "    preds = model.predict(X_test)\n",
    "    rmse = root_mean_squared_error(y_test, preds)\n",
    "    \n",
    "    return rmse\n",
    "\n",
    "evaluate_xgboost_model(X, y)"
   ]
  },
  {
   "cell_type": "code",
   "execution_count": null,
   "id": "33cbc250",
   "metadata": {},
   "outputs": [],
   "source": [
    "X_train, X_test, y_train, y_test = train_test_split(\n",
    "        X, y, test_size=0.2, random_state=42\n",
    "    )\n",
    "\n",
    "model = XGBRegressor(max_depth=5, n_estimators=250, learning_rate=0.03, random_state=42)\n",
    "model.fit(X_train, y_train)\n",
    "\n",
    "preds = model.predict(X_test)\n",
    "rmse = root_mean_squared_error(y_test, preds)\n",
    "\n",
    "np.expm1(preds), np.expm1(y_test)"
   ]
  },
  {
   "cell_type": "code",
   "execution_count": 11,
   "id": "2c6ee71c",
   "metadata": {},
   "outputs": [],
   "source": [
    "# df['content'].apply(lambda x: textblob.TextBlob(x).correct())\n",
    "\n",
    "import re\n",
    "\n",
    "emoji_pattern = re.compile(\n",
    "    \"[\\U0001f600-\\U0001f64f\"  # emoticons\n",
    "    \"\\U0001f300-\\U0001f5ff\"  # symbols & pictographs\n",
    "    \"\\U0001f680-\\U0001f6ff\"  # transport & map\n",
    "    \"\\U0001f1e0-\\U0001f1ff\"  # flags (iOS)\n",
    "    \"\\U00002700-\\U000027bf\"  # dingbats\n",
    "    \"\\U000024c2-\\U0001f251\"  # enclosed characters\n",
    "    \"]+\",\n",
    "    flags=re.UNICODE,\n",
    ")\n",
    "\n",
    "\n",
    "df['has_mention'] = df['content'].str.contains('<mention>').astype(int)\n",
    "df['has_emoji'] = df['content'].apply(lambda x: bool(emoji_pattern.search(x))).astype(int)"
   ]
  },
  {
   "cell_type": "code",
   "execution_count": null,
   "id": "13062138",
   "metadata": {},
   "outputs": [],
   "source": [
    "X = pd.get_dummies(df, columns=[\"media_type\"], drop_first=True)[\n",
    "    [\n",
    "        \"text_polarity\",\n",
    "        \"text_subjectivity\",\n",
    "        \"word_count\",\n",
    "        \"char_density\",\n",
    "        \"post_hour_sin\",\n",
    "        \"post_hour_cos\",\n",
    "        \"weekday_sin\",\n",
    "        \"weekday_cos\",\n",
    "        \"media_type_Photo\",\n",
    "        \"media_type_Video\",\n",
    "        \"has_mention\",\n",
    "        \"has_emoji\",\n",
    "    ]\n",
    "]\n",
    "y = df[\"likes\"]\n",
    "\n",
    "evaluate_model(X, y)"
   ]
  },
  {
   "cell_type": "code",
   "execution_count": null,
   "id": "66bc4110",
   "metadata": {},
   "outputs": [],
   "source": [
    "evaluate_xgboost_model(X, y)"
   ]
  },
  {
   "cell_type": "code",
   "execution_count": 12,
   "id": "6a13a391",
   "metadata": {},
   "outputs": [
    {
     "name": "stderr",
     "output_type": "stream",
     "text": [
      "[nltk_data] Downloading package vader_lexicon to C:\\Users\\Neelesh\n",
      "[nltk_data]     Mishra\\AppData\\Roaming\\nltk_data...\n",
      "[nltk_data]   Package vader_lexicon is already up-to-date!\n"
     ]
    }
   ],
   "source": [
    "import nltk\n",
    "nltk.download(\"vader_lexicon\")\n",
    "from nltk.sentiment import SentimentIntensityAnalyzer\n",
    "\n",
    "sia = SentimentIntensityAnalyzer()\n",
    "\n",
    "sentiment_series = df[\"content\"].apply(lambda x: sia.polarity_scores(x)['compound'])\n",
    "df['nltk_sentiment_pos'] = df[\"content\"].apply(lambda x: sia.polarity_scores(x)[\"pos\"])\n",
    "df['nltk_sentiment_neu'] = df[\"content\"].apply(lambda x: sia.polarity_scores(x)[\"neu\"])\n",
    "df['nltk_sentiment_neg'] = df[\"content\"].apply(lambda x: sia.polarity_scores(x)[\"neg\"])\n",
    "\n",
    "\n",
    "df['nltk_sentiment'] = sentiment_series"
   ]
  },
  {
   "cell_type": "code",
   "execution_count": null,
   "id": "9c8db410",
   "metadata": {},
   "outputs": [],
   "source": [
    "X = pd.get_dummies(df, columns=[\"media_type\"], drop_first=True)[\n",
    "    [\n",
    "        # \"text_polarity\",\n",
    "        'nltk_sentiment',\n",
    "        \"text_subjectivity\",\n",
    "        \"word_count\",\n",
    "        \"char_density\",\n",
    "        \"post_hour_sin\",\n",
    "        \"post_hour_cos\",\n",
    "        \"weekday_sin\",\n",
    "        \"weekday_cos\",\n",
    "        \"media_type_Photo\",\n",
    "        \"media_type_Video\",\n",
    "        \"has_mention\",\n",
    "        \"has_emoji\",\n",
    "    ]\n",
    "]\n",
    "y = df[\"likes\"]\n",
    "\n",
    "evaluate_model(X, y)"
   ]
  },
  {
   "cell_type": "code",
   "execution_count": null,
   "id": "7252e288",
   "metadata": {},
   "outputs": [],
   "source": [
    "evaluate_xgboost_model(X, y)"
   ]
  },
  {
   "cell_type": "code",
   "execution_count": null,
   "id": "9cc55b75",
   "metadata": {},
   "outputs": [],
   "source": [
    "df['likes'].describe()"
   ]
  },
  {
   "cell_type": "code",
   "execution_count": 13,
   "id": "2a6aae9a",
   "metadata": {},
   "outputs": [],
   "source": [
    "X = pd.get_dummies(df, columns=[\"media_type\"], drop_first=True)[\n",
    "    [\n",
    "        # \"text_polarity\",\n",
    "        \"nltk_sentiment\",\n",
    "        \"text_subjectivity\",\n",
    "        \"word_count\",\n",
    "        \"char_density\",\n",
    "        \"post_hour_sin\",\n",
    "        \"post_hour_cos\",\n",
    "        \"weekday_sin\",\n",
    "        \"weekday_cos\",\n",
    "        \"media_type_Photo\",\n",
    "        \"media_type_Video\",\n",
    "        \"has_mention\",\n",
    "        \"has_emoji\",\n",
    "    ]\n",
    "]\n",
    "y = df[\"log_likes\"]\n",
    "\n",
    "# fit to log_likes but give rmse on likes\n",
    "def evaluate_model_log_likes(X, y):\n",
    "    X_train, X_test, y_train, y_test = train_test_split(\n",
    "        X, y, test_size=0.2, random_state=42\n",
    "    )\n",
    "    \n",
    "    model = RandomForestRegressor()\n",
    "    model.fit(X_train, y_train)\n",
    "\n",
    "    preds = model.predict(X_test)\n",
    "    rmse = root_mean_squared_error(np.expm1(y_test), np.expm1(preds))\n",
    "    \n",
    "    return rmse\n",
    "\n",
    "def evaluate_model_log_likes_xgboost(X, y):\n",
    "    X_train, X_test, y_train, y_test = train_test_split(\n",
    "        X, y, test_size=0.2, random_state=42\n",
    "    )\n",
    "    \n",
    "    model = XGBRegressor(max_depth=5, n_estimators=250, learning_rate=0.03, random_state=42)\n",
    "    model.fit(X_train, y_train)\n",
    "\n",
    "    preds = model.predict(X_test)\n",
    "    rmse = root_mean_squared_error(np.expm1(y_test), np.expm1(preds))\n",
    "    \n",
    "    return rmse"
   ]
  },
  {
   "cell_type": "code",
   "execution_count": null,
   "id": "07427c48",
   "metadata": {},
   "outputs": [],
   "source": [
    "# evaluate_model_log_likes(X, y)\n",
    "evaluate_model_log_likes_xgboost(X, y)"
   ]
  },
  {
   "cell_type": "code",
   "execution_count": null,
   "id": "8d583f6a",
   "metadata": {},
   "outputs": [],
   "source": [
    "df['likes'].sort_values(ascending=False).head(100)"
   ]
  },
  {
   "cell_type": "code",
   "execution_count": 14,
   "id": "6a6be590",
   "metadata": {},
   "outputs": [],
   "source": [
    "from sklearn.preprocessing import LabelEncoder\n",
    "\n",
    "le_company = LabelEncoder()\n",
    "df[\"company_enc\"] = le_company.fit_transform(df[\"company\"])"
   ]
  },
  {
   "cell_type": "code",
   "execution_count": null,
   "id": "b4daa295",
   "metadata": {},
   "outputs": [],
   "source": [
    "df['company_enc'].value_counts()"
   ]
  },
  {
   "cell_type": "code",
   "execution_count": null,
   "id": "2f879b10",
   "metadata": {},
   "outputs": [],
   "source": [
    "X = pd.get_dummies(df, columns=[\"media_type\"], drop_first=True)[\n",
    "    [\n",
    "        # \"text_polarity\",\n",
    "        \"nltk_sentiment\",\n",
    "        \"text_subjectivity\",\n",
    "        \"word_count\",\n",
    "        \"char_density\",\n",
    "        \"post_hour_sin\",\n",
    "        \"post_hour_cos\",\n",
    "        \"weekday_sin\",\n",
    "        \"weekday_cos\",\n",
    "        \"media_type_Photo\",\n",
    "        \"media_type_Video\",\n",
    "        \"has_mention\",\n",
    "        \"has_emoji\",\n",
    "        \"company_enc\",\n",
    "    ]\n",
    "]\n",
    "y = df[\"log_likes\"]\n",
    "\n",
    "evaluate_model_log_likes(X, y)"
   ]
  },
  {
   "cell_type": "code",
   "execution_count": 15,
   "id": "b13d67fa",
   "metadata": {},
   "outputs": [],
   "source": [
    "le_username = LabelEncoder()\n",
    "df[\"username_enc\"] = le_username.fit_transform(df[\"username\"])"
   ]
  },
  {
   "cell_type": "code",
   "execution_count": null,
   "id": "0e6c2cd9",
   "metadata": {},
   "outputs": [],
   "source": [
    "X = pd.get_dummies(df, columns=[\"media_type\"], drop_first=True)[\n",
    "    [\n",
    "        # \"text_polarity\",\n",
    "        \"nltk_sentiment\",\n",
    "        \"text_subjectivity\",\n",
    "        \"word_count\",\n",
    "        \"char_density\",\n",
    "        \"post_hour_sin\",\n",
    "        \"post_hour_cos\",\n",
    "        \"weekday_sin\",\n",
    "        \"weekday_cos\",\n",
    "        \"media_type_Photo\",\n",
    "        \"media_type_Video\",\n",
    "        \"has_mention\",\n",
    "        \"has_emoji\",\n",
    "        \"company_enc\",\n",
    "        'username_enc',\n",
    "    ]\n",
    "]\n",
    "y = df[\"log_likes\"]\n",
    "\n",
    "evaluate_model_log_likes(X, y)"
   ]
  },
  {
   "cell_type": "code",
   "execution_count": null,
   "id": "20ba037d",
   "metadata": {},
   "outputs": [],
   "source": [
    "evaluate_model_log_likes_xgboost(X, y)"
   ]
  },
  {
   "cell_type": "code",
   "execution_count": 16,
   "id": "dfb71d06",
   "metadata": {},
   "outputs": [],
   "source": [
    "df['num_emojis'] = df['content'].apply(lambda x: len(emoji_pattern.findall(x)))\n",
    "df['num_mentions'] = df['content'].apply(lambda x: x.count('<mention>'))\n",
    "df['num_hyperlinks'] = df['content'].apply(lambda x: x.count('<hyperlink>'))"
   ]
  },
  {
   "cell_type": "code",
   "execution_count": null,
   "id": "7898c5ba",
   "metadata": {},
   "outputs": [],
   "source": [
    "X = pd.get_dummies(df, columns=[\"media_type\"], drop_first=True)[\n",
    "    [\n",
    "        # \"text_polarity\",\n",
    "        \"nltk_sentiment\",\n",
    "        \"text_subjectivity\",\n",
    "        \"word_count\",\n",
    "        \"char_density\",\n",
    "        \"post_hour_sin\",\n",
    "        \"post_hour_cos\",\n",
    "        \"weekday_sin\",\n",
    "        \"weekday_cos\",\n",
    "        \"media_type_Photo\",\n",
    "        \"media_type_Video\",\n",
    "        \"num_mentions\",\n",
    "        \"num_emojis\",\n",
    "        \"num_hyperlinks\",\n",
    "        \"company_enc\",\n",
    "        \"username_enc\",\n",
    "    ]\n",
    "]\n",
    "y = df[\"log_likes\"]\n",
    "\n",
    "evaluate_model_log_likes(X, y)"
   ]
  },
  {
   "cell_type": "code",
   "execution_count": 17,
   "id": "4ce9561f",
   "metadata": {},
   "outputs": [],
   "source": [
    "df['num_hashtags'] = df['content'].apply(lambda x: x.count('#'))"
   ]
  },
  {
   "cell_type": "code",
   "execution_count": null,
   "id": "9ee34692",
   "metadata": {},
   "outputs": [],
   "source": [
    "X = pd.get_dummies(df, columns=[\"media_type\"], drop_first=True)[\n",
    "    [\n",
    "        \"nltk_sentiment\",\n",
    "        \"text_subjectivity\",\n",
    "        \"word_count\",\n",
    "        \"char_density\",\n",
    "        \"post_hour_sin\",\n",
    "        \"post_hour_cos\",\n",
    "        \"weekday_sin\",\n",
    "        \"weekday_cos\",\n",
    "        \"media_type_Photo\",\n",
    "        \"media_type_Video\",\n",
    "        \"num_mentions\",\n",
    "        \"num_emojis\",\n",
    "        \"num_hyperlinks\",\n",
    "        \"num_hashtags\",\n",
    "        \"company_enc\",\n",
    "        \"username_enc\",\n",
    "    ]\n",
    "]\n",
    "y = df[\"log_likes\"]\n",
    "\n",
    "evaluate_model_log_likes(X, y)"
   ]
  },
  {
   "cell_type": "code",
   "execution_count": null,
   "id": "60c9057f",
   "metadata": {},
   "outputs": [],
   "source": [
    "df.groupby('num_mentions')['likes'].agg(['mean', 'count'])"
   ]
  },
  {
   "cell_type": "code",
   "execution_count": null,
   "id": "43523f18",
   "metadata": {},
   "outputs": [],
   "source": [
    "evaluate_model_log_likes_xgboost(X, y)"
   ]
  },
  {
   "cell_type": "code",
   "execution_count": 18,
   "id": "19681711",
   "metadata": {},
   "outputs": [],
   "source": [
    "df['has_hashtags'] = df['num_hashtags'].apply(lambda x: 1 if x > 0 else 0)"
   ]
  },
  {
   "cell_type": "code",
   "execution_count": null,
   "id": "7ddf5b60",
   "metadata": {},
   "outputs": [],
   "source": [
    "X = pd.get_dummies(df, columns=[\"media_type\"], drop_first=True)[\n",
    "    [\n",
    "        \"nltk_sentiment\",\n",
    "        \"text_subjectivity\",\n",
    "        \"word_count\",\n",
    "        \"char_density\",\n",
    "        \"post_hour_sin\",\n",
    "        \"post_hour_cos\",\n",
    "        \"weekday_sin\",\n",
    "        \"weekday_cos\",\n",
    "        \"media_type_Photo\",\n",
    "        \"media_type_Video\",\n",
    "        \"has_mention\",\n",
    "        \"has_emoji\",\n",
    "        \"num_emojis\",\n",
    "        \"has_hashtags\",\n",
    "        \"num_hashtags\",\n",
    "        \"company_enc\",\n",
    "        \"username_enc\",\n",
    "    ]\n",
    "]\n",
    "y = df[\"log_likes\"]\n",
    "\n",
    "evaluate_model_log_likes(X, y)"
   ]
  },
  {
   "cell_type": "code",
   "execution_count": null,
   "id": "e2f9eb08",
   "metadata": {},
   "outputs": [],
   "source": [
    "from sklearn.model_selection import RandomizedSearchCV\n",
    "from xgboost import XGBRegressor\n",
    "\n",
    "param_dist = {\n",
    "    \"max_depth\": [3, 4, 5, 6, 7, 8],\n",
    "    \"n_estimators\": [100, 150, 200, 250, 300],\n",
    "    \"learning_rate\": [0.01, 0.03, 0.05, 0.1],\n",
    "    \"subsample\": [0.7, 0.8, 0.9, 1.0],\n",
    "    \"colsample_bytree\": [0.7, 0.8, 0.9, 1.0],\n",
    "}\n",
    "\n",
    "X = pd.get_dummies(df, columns=[\"media_type\"], drop_first=True)[\n",
    "    [\n",
    "        \"nltk_sentiment\",\n",
    "        \"text_subjectivity\",\n",
    "        \"word_count\",\n",
    "        \"char_density\",\n",
    "        \"post_hour_sin\",\n",
    "        \"post_hour_cos\",\n",
    "        \"weekday_sin\",\n",
    "        \"weekday_cos\",\n",
    "        \"media_type_Photo\",\n",
    "        \"media_type_Video\",\n",
    "        \"has_mention\",\n",
    "        \"has_emoji\",\n",
    "        \"num_emojis\",\n",
    "        \"has_hashtags\",\n",
    "        \"num_hashtags\",\n",
    "        \"company_enc\",\n",
    "        \"username_enc\",\n",
    "    ]\n",
    "]\n",
    "y = df[\"log_likes\"]\n",
    "\n",
    "xgb = XGBRegressor(random_state=42)\n",
    "random_search = RandomizedSearchCV(\n",
    "    xgb, param_distributions=param_dist, n_iter=20, scoring=\"neg_root_mean_squared_error\",\n",
    "    cv=3, verbose=1, n_jobs=-1, random_state=42\n",
    ")\n",
    "random_search.fit(X, y)\n",
    "\n",
    "print(\"Best params:\", random_search.best_params_)\n",
    "print(\"Best RMSE:\", -random_search.best_score_)"
   ]
  },
  {
   "cell_type": "code",
   "execution_count": null,
   "id": "764081c6",
   "metadata": {},
   "outputs": [],
   "source": [
    "from sklearn.ensemble import RandomForestRegressor\n",
    "from sklearn.model_selection import RandomizedSearchCV\n",
    "\n",
    "rf_param_dist = {\n",
    "    \"n_estimators\": [100, 150, 200, 250, 300],\n",
    "    \"max_depth\": [3, 5, 7, 10, 15, None],\n",
    "    \"min_samples_split\": [2, 5, 10],\n",
    "    \"min_samples_leaf\": [1, 2, 4],\n",
    "    \"max_features\": [\"sqrt\", \"log2\", None],\n",
    "    \"bootstrap\": [True, False],\n",
    "}\n",
    "\n",
    "rf = RandomForestRegressor(random_state=42)\n",
    "rf_random_search = RandomizedSearchCV(\n",
    "    rf, param_distributions=rf_param_dist, n_iter=20, scoring=\"neg_root_mean_squared_error\",\n",
    "    cv=3, verbose=1, n_jobs=-1, random_state=42\n",
    ")\n",
    "rf_random_search.fit(X, y)\n",
    "\n",
    "print(\"Best RF params:\", rf_random_search.best_params_)\n",
    "print(\"Best RF RMSE:\", -rf_random_search.best_score_)"
   ]
  },
  {
   "cell_type": "code",
   "execution_count": null,
   "id": "ae2db28d",
   "metadata": {},
   "outputs": [],
   "source": [
    "best_model = random_search.best_estimator_\n",
    "X_train, X_test, y_train, y_test = train_test_split(\n",
    "    X, y, test_size=0.2, random_state=42)\n",
    "\n",
    "best_model.fit(X_train, y_train)\n",
    "preds = best_model.predict(X_test)\n",
    "\n",
    "rmse = root_mean_squared_error(np.expm1(y_test), np.expm1(preds))\n",
    "print(\"Final RMSE on test set:\", rmse)\n",
    "\n",
    "# plot most important features\n",
    "import matplotlib.pyplot as plt\n",
    "importances = best_model.feature_importances_\n",
    "feature_names = X.columns\n",
    "indices = np.argsort(importances)[::-1]\n",
    "plt.figure(figsize=(12, 8))\n",
    "plt.title(\"Feature Importances\")\n",
    "plt.bar(range(len(importances)), importances[indices], align=\"center\")\n",
    "plt.xticks(range(len(importances)), feature_names[indices], rotation=90)\n",
    "plt.xlim([-1, len(importances)])\n",
    "plt.tight_layout()\n",
    "plt.show()\n"
   ]
  },
  {
   "cell_type": "code",
   "execution_count": 19,
   "id": "4d301e0d",
   "metadata": {},
   "outputs": [
    {
     "data": {
      "image/png": "[encoded data removed]",
      "text/plain": [
       "<Figure size 640x480 with 1 Axes>"
      ]
     },
     "metadata": {},
     "output_type": "display_data"
    }
   ],
   "source": [
    "emoji_density = df['num_emojis'] / df['word_count']\n",
    "sns.scatterplot(x=emoji_density, y=df['likes'])\n",
    "df['emoji_density'] = emoji_density"
   ]
  },
  {
   "cell_type": "code",
   "execution_count": null,
   "id": "89bc3d83",
   "metadata": {},
   "outputs": [],
   "source": [
    "X = pd.get_dummies(df, columns=[\"media_type\"], drop_first=True)[\n",
    "    [\n",
    "        \"nltk_sentiment\",\n",
    "        \"text_subjectivity\",\n",
    "        \"word_count\",\n",
    "        \"char_density\",\n",
    "        \"post_hour_sin\",\n",
    "        \"post_hour_cos\",\n",
    "        \"weekday_sin\",\n",
    "        \"weekday_cos\",\n",
    "        \"media_type_Photo\",\n",
    "        \"media_type_Video\",\n",
    "        \"has_mention\",\n",
    "        \"has_emoji\",\n",
    "        \"num_emojis\",\n",
    "        \"has_hashtags\",\n",
    "        \"num_hashtags\",\n",
    "        \"company_enc\",\n",
    "        \"username_enc\",\n",
    "    ]\n",
    "]\n",
    "y = df[\"log_likes\"]\n",
    "\n",
    "evaluate_model_log_likes(X, y)"
   ]
  },
  {
   "cell_type": "code",
   "execution_count": 20,
   "id": "8901bbed",
   "metadata": {},
   "outputs": [],
   "source": [
    "df['is_morning_post'] = df['post_hour'].apply(lambda x: 1 if 5 <= x < 12 else 0)\n",
    "df['is_afternoon_post'] = df['post_hour'].apply(lambda x: 1 if 12 <= x < 17 else 0)\n",
    "df['is_evening_post'] = df['post_hour'].apply(lambda x: 1 if 17 <= x < 21 else 0)\n",
    "df['is_night_post'] = df['post_hour'].apply(lambda x: 1 if 21 <= x < 5 else 0)"
   ]
  },
  {
   "cell_type": "code",
   "execution_count": null,
   "id": "acafb53d",
   "metadata": {},
   "outputs": [],
   "source": [
    "X = pd.get_dummies(df, columns=[\"media_type\"], drop_first=True)[\n",
    "    [\n",
    "        \"nltk_sentiment\",\n",
    "        \"text_subjectivity\",\n",
    "        \"word_count\",\n",
    "        \"char_density\",\n",
    "        'is_morning_post',\n",
    "        'is_afternoon_post',\n",
    "        'is_evening_post',\n",
    "        'is_night_post',\n",
    "        \"weekday_sin\",\n",
    "        \"weekday_cos\",\n",
    "        \"media_type_Photo\",\n",
    "        \"media_type_Video\",\n",
    "        \"has_mention\",\n",
    "        \"has_emoji\",\n",
    "        \"num_emojis\",\n",
    "        \"has_hashtags\",\n",
    "        \"num_hashtags\",\n",
    "        \"company_enc\",\n",
    "        \"username_enc\",\n",
    "    ]\n",
    "]\n",
    "y = df[\"log_likes\"]\n",
    "\n",
    "evaluate_model_log_likes(X, y)"
   ]
  },
  {
   "cell_type": "code",
   "execution_count": 21,
   "id": "2eb5c3f8",
   "metadata": {},
   "outputs": [],
   "source": [
    "df['is_weekend_post'] = df['weekday'].apply(lambda x: 1 if x >= 5 else 0)"
   ]
  },
  {
   "cell_type": "code",
   "execution_count": 23,
   "id": "a8aacd0d",
   "metadata": {},
   "outputs": [
    {
     "data": {
      "text/plain": [
       "3003.3312029398417"
      ]
     },
     "execution_count": 23,
     "metadata": {},
     "output_type": "execute_result"
    }
   ],
   "source": [
    "X = pd.get_dummies(df, columns=[\"media_type\"], drop_first=True)[\n",
    "    [\n",
    "        \"nltk_sentiment\",\n",
    "        \"text_subjectivity\",\n",
    "        \"word_count\",\n",
    "        \"char_density\",\n",
    "        \"is_morning_post\",\n",
    "        \"is_afternoon_post\",\n",
    "        \"is_evening_post\",\n",
    "        \"is_night_post\",\n",
    "        'weekday',\n",
    "        # 'is_weekend_post',\n",
    "        \"media_type_Photo\",\n",
    "        \"media_type_Video\",\n",
    "        \"has_mention\",\n",
    "        \"has_emoji\",\n",
    "        \"num_emojis\",\n",
    "        \"has_hashtags\",\n",
    "        \"num_hashtags\",\n",
    "        \"company_enc\",\n",
    "        \"username_enc\",\n",
    "    ]\n",
    "]\n",
    "y = df[\"log_likes\"]\n",
    "\n",
    "evaluate_model_log_likes(X, y)"
   ]
  },
  {
   "cell_type": "code",
   "execution_count": 24,
   "id": "fbe311b5",
   "metadata": {},
   "outputs": [
    {
     "data": {
      "text/plain": [
       "2981.675367427843"
      ]
     },
     "execution_count": 24,
     "metadata": {},
     "output_type": "execute_result"
    }
   ],
   "source": [
    "X_train, X_test, y_train, y_test = train_test_split(\n",
    "    X, y, test_size=0.2, random_state=42\n",
    ")\n",
    "\n",
    "model = RandomForestRegressor()\n",
    "model.fit(X_train, y_train)\n",
    "\n",
    "preds = model.predict(X_test)\n",
    "rmse = root_mean_squared_error(np.expm1(y_test), np.expm1(preds))\n",
    "rmse"
   ]
  },
  {
   "cell_type": "code",
   "execution_count": 25,
   "id": "35d7cde8",
   "metadata": {},
   "outputs": [
    {
     "data": {
      "image/png": "[encoded data removed]",
      "text/plain": [
       "<Figure size 800x870 with 1 Axes>"
      ]
     },
     "metadata": {},
     "output_type": "display_data"
    }
   ],
   "source": [
    "import shap\n",
    "\n",
    "explainer = shap.TreeExplainer(model)\n",
    "shap_values = explainer.shap_values(X_test.sample(100, random_state=42))\n",
    "shap.summary_plot(shap_values, X_test, plot_type=\"bar\")"
   ]
  },
  {
   "cell_type": "code",
   "execution_count": 31,
   "id": "a515b584",
   "metadata": {},
   "outputs": [],
   "source": [
    "from sklearn.feature_extraction.text import TfidfVectorizer\n",
    "\n",
    "\n",
    "def add_top_tfidf_features(df, text_col, target_col, top_n=10, max_features=1000):\n",
    "    # Step 1: TF-IDF Vectorization\n",
    "    tfidf = TfidfVectorizer(max_features=max_features, stop_words=\"english\")\n",
    "    X_tfidf = tfidf.fit_transform(df[text_col])\n",
    "    feature_names = tfidf.get_feature_names_out()\n",
    "\n",
    "    # Step 2: Compute correlation of each word with target\n",
    "    tfidf_df = pd.DataFrame(X_tfidf.toarray(), columns=feature_names)\n",
    "    tfidf_df[target_col] = df[target_col].values\n",
    "\n",
    "    correlations = tfidf_df.corr(numeric_only=True)[target_col].dropna()\n",
    "    top_words = (\n",
    "        correlations.abs().sort_values(ascending=False).head(top_n + 1).index.tolist()\n",
    "    )\n",
    "\n",
    "    # Step 3: Add binary columns for top words\n",
    "    for word in top_words:\n",
    "        if word == target_col:\n",
    "            continue\n",
    "        \n",
    "        df[f\"has_word_{word}\"] = (\n",
    "            df[text_col].str.contains(rf\"\\b{word}\\b\", case=False).astype(int)\n",
    "        )\n",
    "\n",
    "    return df, top_words"
   ]
  },
  {
   "cell_type": "code",
   "execution_count": 32,
   "id": "9fe1c450",
   "metadata": {},
   "outputs": [],
   "source": [
    "df, _ = add_top_tfidf_features(df, \"content\", \"log_likes\", top_n=10, max_features=1000)"
   ]
  },
  {
   "cell_type": "code",
   "execution_count": 35,
   "id": "9414d7e2",
   "metadata": {},
   "outputs": [
    {
     "name": "stdout",
     "output_type": "stream",
     "text": [
      "has_word_cisco: 373 tweets contain this word\n",
      "has_word_trump: 417 tweets contain this word\n",
      "has_word_19: 397 tweets contain this word\n",
      "has_word_covid: 354 tweets contain this word\n",
      "has_word_president: 416 tweets contain this word\n",
      "has_word_aaa: 114 tweets contain this word\n",
      "has_word_nigeria: 78 tweets contain this word\n",
      "has_word_arm: 89 tweets contain this word\n",
      "has_word_learn: 671 tweets contain this word\n",
      "has_word_buhari: 63 tweets contain this word\n"
     ]
    }
   ],
   "source": [
    "# for all columns that start with 'has_word_'\n",
    "has_word_cols = [col for col in df.columns if col.startswith(\"has_word_\")]\n",
    "# print number of tweets that contain each word\n",
    "for col in has_word_cols:\n",
    "    print(f\"{col}: {df[col].sum()} tweets contain this word\")"
   ]
  },
  {
   "cell_type": "code",
   "execution_count": 36,
   "id": "fe9ff38c",
   "metadata": {},
   "outputs": [
    {
     "data": {
      "text/plain": [
       "2990.6016912748078"
      ]
     },
     "execution_count": 36,
     "metadata": {},
     "output_type": "execute_result"
    }
   ],
   "source": [
    "X = pd.get_dummies(df, columns=[\"media_type\"], drop_first=True)[\n",
    "    [\n",
    "        \"nltk_sentiment\",\n",
    "        \"text_subjectivity\",\n",
    "        \"word_count\",\n",
    "        \"char_density\",\n",
    "        \"is_morning_post\",\n",
    "        \"is_afternoon_post\",\n",
    "        \"is_evening_post\",\n",
    "        \"is_night_post\",\n",
    "        \"weekday\",\n",
    "        # 'is_weekend_post',\n",
    "        \"media_type_Photo\",\n",
    "        \"media_type_Video\",\n",
    "        \"has_mention\",\n",
    "        \"has_emoji\",\n",
    "        \"num_emojis\",\n",
    "        \"has_hashtags\",\n",
    "        \"num_hashtags\",\n",
    "        \"company_enc\",\n",
    "        \"username_enc\",\n",
    "    ] + has_word_cols\n",
    "]\n",
    "y = df[\"log_likes\"]\n",
    "\n",
    "evaluate_model_log_likes(X, y)"
   ]
  },
  {
   "cell_type": "code",
   "execution_count": null,
   "id": "f120714e",
   "metadata": {},
   "outputs": [
    {
     "name": "stdout",
     "output_type": "stream",
     "text": [
      "RMSE with target encoding: 2865.8488\n"
     ]
    }
   ],
   "source": [
    "from category_encoders import TargetEncoder\n",
    "from sklearn.model_selection import train_test_split\n",
    "\n",
    "feature_cols = [\n",
    "    \"nltk_sentiment\",\n",
    "    \"text_subjectivity\",\n",
    "    \"word_count\",\n",
    "    \"char_density\",\n",
    "    \"is_morning_post\",\n",
    "    \"is_afternoon_post\",\n",
    "    \"is_evening_post\",\n",
    "    \"is_night_post\",\n",
    "    \"weekday\",\n",
    "    \"media_type_Photo\",\n",
    "    \"media_type_Video\",\n",
    "    \"has_mention\",\n",
    "    \"has_emoji\",\n",
    "    \"num_emojis\",\n",
    "    \"has_hashtags\",\n",
    "    \"num_hashtags\",\n",
    "] + has_word_cols\n",
    "\n",
    "X = pd.get_dummies(df, columns=[\"media_type\"], drop_first=True)[feature_cols + [\"company\", \"username\"]]\n",
    "y = df[\"log_likes\"]\n",
    "\n",
    "X_train, X_test, y_train, y_test = train_test_split(X, y, test_size=0.2, random_state=42)\n",
    "\n",
    "te = TargetEncoder(cols=[\"company\", \"username\"])\n",
    "X_train_enc = te.fit_transform(X_train, y_train)\n",
    "X_test_enc = te.transform(X_test)\n",
    "\n",
    "# Fit and evaluate model\n",
    "model = RandomForestRegressor(random_state=42)\n",
    "model.fit(X_train_enc, y_train)\n",
    "\n",
    "preds = model.predict(X_test_enc)\n",
    "rmse = root_mean_squared_error(np.expm1(y_test), np.expm1(preds))\n",
    "rmse"
   ]
  },
  {
   "cell_type": "code",
   "execution_count": null,
   "id": "87eab6d6",
   "metadata": {},
   "outputs": [
    {
     "name": "stdout",
     "output_type": "stream",
     "text": [
      "Category counts: likes_category\n",
      "0    3661\n",
      "1    3327\n",
      "2    3429\n",
      "3    3453\n",
      "4    3461\n",
      "Name: count, dtype: int64\n",
      "              precision    recall  f1-score   support\n",
      "\n",
      "           0      0.940     0.814     0.873       732\n",
      "           1      0.705     0.841     0.767       666\n",
      "           2      0.567     0.671     0.615       686\n",
      "           3      0.539     0.527     0.533       691\n",
      "           4      0.797     0.637     0.708       692\n",
      "\n",
      "    accuracy                          0.698      3467\n",
      "   macro avg      0.710     0.698     0.699      3467\n",
      "weighted avg      0.713     0.698     0.701      3467\n",
      "\n",
      "              precision    recall  f1-score   support\n",
      "\n",
      "           0      0.940     0.814     0.873       732\n",
      "           1      0.705     0.841     0.767       666\n",
      "           2      0.567     0.671     0.615       686\n",
      "           3      0.539     0.527     0.533       691\n",
      "           4      0.797     0.637     0.708       692\n",
      "\n",
      "    accuracy                          0.698      3467\n",
      "   macro avg      0.710     0.698     0.699      3467\n",
      "weighted avg      0.713     0.698     0.701      3467\n",
      "\n"
     ]
    }
   ],
   "source": [
    "from sklearn.ensemble import RandomForestClassifier\n",
    "from sklearn.metrics import classification_report\n",
    "\n",
    "num_bins = 5\n",
    "like_bins = np.quantile(df['likes'], np.linspace(0, 1, num_bins + 1))\n",
    "like_bins = np.unique(like_bins)\n",
    "df['likes_category'] = np.digitize(df['likes'], bins=like_bins[1:-1], right=True)\n",
    "\n",
    "print('Category counts:', df['likes_category'].value_counts().sort_index())\n",
    "\n",
    "X = pd.get_dummies(df, columns=[\"media_type\"], drop_first=True)[feature_cols + [\"company\", \"username\"]]\n",
    "y_cat = df['likes_category']\n",
    "\n",
    "te = TargetEncoder(cols=[\"company\", \"username\"])\n",
    "X_train, X_test, y_train, y_test = train_test_split(X, y_cat, test_size=0.2, random_state=42, stratify=y_cat)\n",
    "X_train_enc = te.fit_transform(X_train, y_train)\n",
    "X_test_enc = te.transform(X_test)\n",
    "\n",
    "clf = RandomForestClassifier(random_state=42)\n",
    "clf.fit(X_train_enc, y_train)\n",
    "y_pred = clf.predict(X_test_enc)\n",
    "\n",
    "print(classification_report(y_test, y_pred, digits=3))"
   ]
  },
  {
   "cell_type": "code",
   "execution_count": null,
   "id": "d134e28b",
   "metadata": {},
   "outputs": [
    {
     "name": "stdout",
     "output_type": "stream",
     "text": [
      "Ensemble RMSE (classification output as feature): 2636.4806\n"
     ]
    }
   ],
   "source": [
    "X = pd.get_dummies(df, columns=[\"media_type\"], drop_first=True)[feature_cols + [\"company\", \"username\"]]\n",
    "y_reg = df[\"log_likes\"]\n",
    "y_cat = df[\"likes_category\"]\n",
    "\n",
    "te = TargetEncoder(cols=[\"company\", \"username\"])\n",
    "X_train, X_test, y_train_reg, y_test_reg, y_train_cat, y_test_cat = train_test_split(\n",
    "    X, y_reg, y_cat, test_size=0.2, random_state=42, stratify=y_cat\n",
    ")\n",
    "X_train_enc = te.fit_transform(X_train, y_train_reg)\n",
    "X_test_enc = te.transform(X_test)\n",
    "\n",
    "clf = RandomForestClassifier(random_state=42)\n",
    "clf.fit(X_train_enc, y_train_cat)\n",
    "\n",
    "train_class_pred = clf.predict(X_train_enc)\n",
    "test_class_pred = clf.predict(X_test_enc)\n",
    "\n",
    "X_train_ens = X_train_enc.copy()\n",
    "X_test_ens = X_test_enc.copy()\n",
    "X_train_ens[\"class_pred\"] = train_class_pred\n",
    "X_test_ens[\"class_pred\"] = test_class_pred\n",
    "\n",
    "reg = RandomForestRegressor(random_state=42)\n",
    "reg.fit(X_train_ens, y_train_reg)\n",
    "preds = reg.predict(X_test_ens)\n",
    "rmse = root_mean_squared_error(np.expm1(y_test_reg), np.expm1(preds))\n",
    "print(f\"Ensemble RMSE (classification output as feature): {rmse:.4f}\")"
   ]
  }
 ],
 "metadata": {
  "kernelspec": {
   "display_name": "Python 3",
   "language": "python",
   "name": "python3"
  },
  "language_info": {
   "codemirror_mode": {
    "name": "ipython",
    "version": 3
   },
   "file_extension": ".py",
   "mimetype": "text/x-python",
   "name": "python",
   "nbconvert_exporter": "python",
   "pygments_lexer": "ipython3",
   "version": "3.12.10"
  }
 },
 "nbformat": 4,
 "nbformat_minor": 5
}
